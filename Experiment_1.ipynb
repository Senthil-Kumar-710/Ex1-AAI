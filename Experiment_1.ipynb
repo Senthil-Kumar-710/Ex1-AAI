{
  "nbformat": 4,
  "nbformat_minor": 0,
  "metadata": {
    "colab": {
      "provenance": [],
      "include_colab_link": true
    },
    "kernelspec": {
      "name": "python3",
      "display_name": "Python 3"
    },
    "language_info": {
      "name": "python"
    }
  },
  "cells": [
    {
      "cell_type": "markdown",
      "metadata": {
        "id": "view-in-github",
        "colab_type": "text"
      },
      "source": [
        "<a href=\"https://colab.research.google.com/github/Aakash-suresh/Ex1-AAI/blob/main/Experiment_1.ipynb\" target=\"_parent\"><img src=\"https://colab.research.google.com/assets/colab-badge.svg\" alt=\"Open In Colab\"/></a>"
      ]
    },
    {
      "cell_type": "code",
      "source": [
        "pip install pybbn"
      ],
      "metadata": {
        "id": "_prB8WOXriq6",
        "outputId": "9271d14a-55a3-4b84-a000-476d377c30c2",
        "colab": {
          "base_uri": "https://localhost:8080/"
        }
      },
      "execution_count": 1,
      "outputs": [
        {
          "output_type": "stream",
          "name": "stdout",
          "text": [
            "Collecting pybbn\n",
            "  Downloading pybbn-3.2.3.tar.gz (36 kB)\n",
            "  Preparing metadata (setup.py) ... \u001b[?25l\u001b[?25hdone\n",
            "Requirement already satisfied: numpy in /usr/local/lib/python3.10/dist-packages (from pybbn) (1.25.2)\n",
            "Requirement already satisfied: scipy in /usr/local/lib/python3.10/dist-packages (from pybbn) (1.11.4)\n",
            "Requirement already satisfied: networkx in /usr/local/lib/python3.10/dist-packages (from pybbn) (3.2.1)\n",
            "Requirement already satisfied: pandas in /usr/local/lib/python3.10/dist-packages (from pybbn) (1.5.3)\n",
            "Requirement already satisfied: python-dateutil>=2.8.1 in /usr/local/lib/python3.10/dist-packages (from pandas->pybbn) (2.8.2)\n",
            "Requirement already satisfied: pytz>=2020.1 in /usr/local/lib/python3.10/dist-packages (from pandas->pybbn) (2023.4)\n",
            "Requirement already satisfied: six>=1.5 in /usr/local/lib/python3.10/dist-packages (from python-dateutil>=2.8.1->pandas->pybbn) (1.16.0)\n",
            "Building wheels for collected packages: pybbn\n",
            "  Building wheel for pybbn (setup.py) ... \u001b[?25l\u001b[?25hdone\n",
            "  Created wheel for pybbn: filename=pybbn-3.2.3-py3-none-any.whl size=40373 sha256=95f57dee13df949a8b8c67697c5b4564658551e56bf4e593403148583021e215\n",
            "  Stored in directory: /root/.cache/pip/wheels/a7/6f/f1/ec7566a4882ab5c796fb43dfd84062769f75ba5381ca60d2b6\n",
            "Successfully built pybbn\n",
            "Installing collected packages: pybbn\n",
            "Successfully installed pybbn-3.2.3\n"
          ]
        }
      ]
    },
    {
      "cell_type": "code",
      "execution_count": 2,
      "metadata": {
        "id": "EZ7E-f7XNAXW",
        "outputId": "b708e863-4f2e-4197-bcdd-6eac5fb15f85",
        "colab": {
          "base_uri": "https://localhost:8080/",
          "height": 1000
        }
      },
      "outputs": [
        {
          "output_type": "stream",
          "name": "stderr",
          "text": [
            "<ipython-input-2-3c5b5ca47937>:21: FutureWarning: The default value of numeric_only in DataFrame.mean is deprecated. In a future version, it will default to False. In addition, specifying 'numeric_only=None' is deprecated. Select only valid columns or specify the value of numeric_only to silence this warning.\n",
            "  df=df.fillna(df.mean())\n"
          ]
        },
        {
          "output_type": "stream",
          "name": "stdout",
          "text": [
            "              Date Location  MinTemp  MaxTemp  Rainfall  Evaporation  \\\n",
            "0       2008-12-01   Albury     13.4     22.9       0.6     5.469824   \n",
            "1       2008-12-02   Albury      7.4     25.1       0.0     5.469824   \n",
            "2       2008-12-03   Albury     12.9     25.7       0.0     5.469824   \n",
            "3       2008-12-04   Albury      9.2     28.0       0.0     5.469824   \n",
            "4       2008-12-05   Albury     17.5     32.3       1.0     5.469824   \n",
            "...            ...      ...      ...      ...       ...          ...   \n",
            "145454  2017-06-20    Uluru      3.5     21.8       0.0     5.469824   \n",
            "145455  2017-06-21    Uluru      2.8     23.4       0.0     5.469824   \n",
            "145456  2017-06-22    Uluru      3.6     25.3       0.0     5.469824   \n",
            "145457  2017-06-23    Uluru      5.4     26.9       0.0     5.469824   \n",
            "145458  2017-06-24    Uluru      7.8     27.0       0.0     5.469824   \n",
            "\n",
            "        Sunshine WindGustDir  WindGustSpeed WindDir9am WindDir3pm  \\\n",
            "0       7.624853           W           44.0          W        WNW   \n",
            "1       7.624853         WNW           44.0        NNW        WSW   \n",
            "2       7.624853         WSW           46.0          W        WSW   \n",
            "3       7.624853          NE           24.0         SE          E   \n",
            "4       7.624853           W           41.0        ENE         NW   \n",
            "...          ...         ...            ...        ...        ...   \n",
            "145454  7.624853           E           31.0        ESE          E   \n",
            "145455  7.624853           E           31.0         SE        ENE   \n",
            "145456  7.624853         NNW           22.0         SE          N   \n",
            "145457  7.624853           N           37.0         SE        WNW   \n",
            "145458  7.624853          SE           28.0        SSE          N   \n",
            "\n",
            "        WindSpeed9am  WindSpeed3pm  Humidity9am  Humidity3pm  Pressure9am  \\\n",
            "0               20.0          24.0         71.0         22.0       1007.7   \n",
            "1                4.0          22.0         44.0         25.0       1010.6   \n",
            "2               19.0          26.0         38.0         30.0       1007.6   \n",
            "3               11.0           9.0         45.0         16.0       1017.6   \n",
            "4                7.0          20.0         82.0         33.0       1010.8   \n",
            "...              ...           ...          ...          ...          ...   \n",
            "145454          15.0          13.0         59.0         27.0       1024.7   \n",
            "145455          13.0          11.0         51.0         24.0       1024.6   \n",
            "145456          13.0           9.0         56.0         21.0       1023.5   \n",
            "145457           9.0           9.0         53.0         24.0       1021.0   \n",
            "145458          13.0           7.0         51.0         24.0       1019.4   \n",
            "\n",
            "        Pressure3pm  Cloud9am  Cloud3pm  Temp9am  Temp3pm RainToday  \\\n",
            "0            1007.1  8.000000  4.503167     16.9     21.8        No   \n",
            "1            1007.8  4.437189  4.503167     17.2     24.3        No   \n",
            "2            1008.7  4.437189  2.000000     21.0     23.2        No   \n",
            "3            1012.8  4.437189  4.503167     18.1     26.5        No   \n",
            "4            1006.0  7.000000  8.000000     17.8     29.7        No   \n",
            "...             ...       ...       ...      ...      ...       ...   \n",
            "145454       1021.2  4.437189  4.503167      9.4     20.9        No   \n",
            "145455       1020.3  4.437189  4.503167     10.1     22.4        No   \n",
            "145456       1019.1  4.437189  4.503167     10.9     24.5        No   \n",
            "145457       1016.8  4.437189  4.503167     12.5     26.1        No   \n",
            "145458       1016.5  3.000000  2.000000     15.1     26.0        No   \n",
            "\n",
            "       RainTomorrow WindGustSpeedCat Humidity9amCat Humidity3pmCat  \n",
            "0                No          1.40-50          1.>60         0.<=60  \n",
            "1                No          1.40-50         0.<=60         0.<=60  \n",
            "2                No          1.40-50         0.<=60         0.<=60  \n",
            "3                No           0.<=40         0.<=60         0.<=60  \n",
            "4                No          1.40-50          1.>60         0.<=60  \n",
            "...             ...              ...            ...            ...  \n",
            "145454           No           0.<=40         0.<=60         0.<=60  \n",
            "145455           No           0.<=40         0.<=60         0.<=60  \n",
            "145456           No           0.<=40         0.<=60         0.<=60  \n",
            "145457           No           0.<=40         0.<=60         0.<=60  \n",
            "145458           No           0.<=40         0.<=60         0.<=60  \n",
            "\n",
            "[142193 rows x 26 columns]\n"
          ]
        },
        {
          "output_type": "display_data",
          "data": {
            "text/plain": [
              "<Figure size 640x480 with 1 Axes>"
            ],
            "image/png": "[encoded data removed]"
          },
          "metadata": {}
        }
      ],
      "source": [
        "import pandas as pd # for data manipulation\n",
        "import networkx as nx # for drawing graphs\n",
        "import matplotlib.pyplot as plt # for drawing graphs\n",
        "# for creating Bayesian Belief Networks (BBN)\n",
        "from pybbn.graph.dag import Bbn\n",
        "from pybbn.graph.edge import Edge, EdgeType\n",
        "from pybbn.graph.jointree import EvidenceBuilder\n",
        "from pybbn.graph.node import BbnNode\n",
        "from pybbn.graph.variable import Variable\n",
        "from pybbn.pptc.inferencecontroller import InferenceController\n",
        "#Set Pandas options to display more columns\n",
        "pd.options.display.max_columns=50\n",
        "\n",
        "# Read in the weather data csv\n",
        "df=pd.read_csv('weatherAUS.csv',encoding='utf-8')\n",
        "\n",
        "# Drop records where target RainTomorrow=NaN\n",
        "df=df[pd.isnull(df['RainTomorrow'])==False]\n",
        "\n",
        "# For other columns with missing values, fill them in with column mean\n",
        "df=df.fillna(df.mean())\n",
        "\n",
        "# Create bands for variables that we want to use in the model\n",
        "df['WindGustSpeedCat']=df['WindGustSpeed'].apply(lambda x: '0.<=40'   if x<=40 else '1.40-50' if 40<x<=50 else '2.>50')\n",
        "df['Humidity9amCat']=df['Humidity9am'].apply(lambda x: '1.>60' if x>60 else '0.<=60')\n",
        "df['Humidity3pmCat']=df['Humidity3pm'].apply(lambda x: '1.>60' if x>60 else '0.<=60')\n",
        "\n",
        "\n",
        "# Show a snaphsot of data\n",
        "print(df)\n",
        "\n",
        "# This function helps to calculate probability distribution, which goes into BBN (note, can handle up to 2 parents)\n",
        "def probs(data, child, parent1=None, parent2=None):\n",
        "    if parent1==None:\n",
        "        # Calculate probabilities\n",
        "        prob=pd.crosstab(data[child], 'Empty', margins=False, normalize='columns').sort_index().to_numpy().reshape(-1).tolist()\n",
        "    elif parent1!=None:\n",
        "            # Check if child node has 1 parent or 2 parents\n",
        "            if parent2==None:\n",
        "                # Caclucate probabilities\n",
        "                prob=pd.crosstab(data[parent1],data[child], margins=False, normalize='index').sort_index().to_numpy().reshape(-1).tolist()\n",
        "            else:\n",
        "                # Caclucate probabilities\n",
        "                prob=pd.crosstab([data[parent1],data[parent2]],data[child], margins=False, normalize='index').sort_index().to_numpy().reshape(-1).tolist()\n",
        "    else: print(\"Error in Probability Frequency Calculations\")\n",
        "    return prob\n",
        "\n",
        "\n",
        "\n",
        "# Create nodes by using our earlier function to automatically calculate probabilities\n",
        "H9am = BbnNode(Variable(0, 'H9am', ['<=60', '>60']), probs(df, child='Humidity9amCat'))\n",
        "H3pm = BbnNode(Variable(1, 'H3pm', ['<=60', '>60']), probs(df, child='Humidity3pmCat', parent1='Humidity9amCat'))\n",
        "W = BbnNode(Variable(2, 'W', ['<=40', '40-50', '>50']), probs(df, child='WindGustSpeedCat'))\n",
        "RT = BbnNode(Variable(3, 'RT', ['No', 'Yes']), probs(df, child='RainTomorrow', parent1='Humidity3pmCat', parent2='WindGustSpeedCat'))\n",
        "\n",
        "\n",
        "\n",
        "# Create Network\n",
        "bbn = Bbn() \\\n",
        "    .add_node(H9am) \\\n",
        "    .add_node(H3pm) \\\n",
        "    .add_node(W) \\\n",
        "    .add_node(RT) \\\n",
        "    .add_edge(Edge(H9am, H3pm, EdgeType.DIRECTED)) \\\n",
        "    .add_edge(Edge(H3pm, RT, EdgeType.DIRECTED)) \\\n",
        "    .add_edge(Edge(W, RT, EdgeType.DIRECTED))\n",
        "\n",
        "\n",
        "# Convert the BBN to a join tree\n",
        "join_tree = InferenceController.apply(bbn)\n",
        "\n",
        "# Set node positions\n",
        "pos = {0: (-1, 2), 1: (-1, 0.5), 2: (1, 0.5), 3: (0, -1)}\n",
        "# Set options for graph looks\n",
        "options = {\n",
        "    \"font_size\": 16,\n",
        "    \"node_size\": 4000,\n",
        "    \"node_color\": \"pink\",\n",
        "    \"edgecolors\": \"blue\",\n",
        "    \"edge_color\": \"green\",\n",
        "    \"linewidths\": 5,\n",
        "    \"width\": 5,}\n",
        "\n",
        "\n",
        "# Generate graph\n",
        "n, d = bbn.to_nx_graph()\n",
        "nx.draw(n, with_labels=True, labels=d, pos=pos, **options)\n",
        "\n",
        "# Update margins and print the graph\n",
        "ax = plt.gca()\n",
        "ax.margins(0.10)\n",
        "plt.axis(\"off\")\n",
        "plt.show()"
      ]
    }
  ]
}